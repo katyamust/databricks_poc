{
 "cells": [
  {
   "cell_type": "markdown",
   "metadata": {},
   "source": [
    "# K Means POC experiment notebook \n",
    "\n",
    "## Experiment description\n",
    "the notebook train simple m kmeans model. Model implemented  complying the ML framework\n",
    "\n"
   ]
  },
  {
   "cell_type": "markdown",
   "metadata": {},
   "source": [
    "##### Jupyter helpers:"
   ]
  },
  {
   "cell_type": "code",
   "execution_count": null,
   "metadata": {},
   "outputs": [],
   "source": [
    "%reload_ext autoreload\n",
    "%autoreload"
   ]
  },
  {
   "cell_type": "markdown",
   "metadata": {},
   "source": [
    "Define imports"
   ]
  },
  {
   "cell_type": "code",
   "execution_count": null,
   "metadata": {},
   "outputs": [],
   "source": [
    "\n",
    "from kmeans_poc.data import KMeansSampleDataLoader\n",
    "from kmeans_poc.models import KMeansModel\n",
    "from kmeans_poc.data_processing import DataProcessor\n",
    "from kmeans_poc.experimentation import MlflowExperimentation\n",
    "from kmeans_poc.evaluation import Evaluator, EvaluationMetrics\n"
   ]
  },
  {
   "cell_type": "markdown",
   "metadata": {},
   "source": [
    "## Load data\n",
    "*replace MyDataLoader with your DataLoader implementation*"
   ]
  },
  {
   "cell_type": "code",
   "execution_count": null,
   "metadata": {},
   "outputs": [],
   "source": [
    "data_loader = KMeansSampleDataLoader(dataset_name=\"generated\",dataset_version=1.0 )\n",
    "x = data_loader.get_dataset()"
   ]
  },
  {
   "cell_type": "markdown",
   "metadata": {
    "lines_to_next_cell": 0
   },
   "source": [
    "Define experimentation object, which will be used for logging the experiments parameters, metrics and artifacts\n",
    "*Replace MlflowExperimentation if you use a different experimentation system*"
   ]
  },
  {
   "cell_type": "code",
   "execution_count": null,
   "metadata": {},
   "outputs": [],
   "source": [
    "experimentation = MlflowExperimentation(tracking_uri=\"databricks\")"
   ]
  },
  {
   "cell_type": "markdown",
   "metadata": {
    "lines_to_next_cell": 0
   },
   "source": [
    "Create model/logic:\n",
    "Note: used default empty preprocessor, as there is no preprocessing for this model"
   ]
  },
  {
   "cell_type": "code",
   "execution_count": null,
   "metadata": {},
   "outputs": [],
   "source": [
    "my_model = KMeansModel()"
   ]
  },
  {
   "cell_type": "markdown",
   "metadata": {
    "lines_to_next_cell": 0
   },
   "source": [
    "Define evaluation"
   ]
  },
  {
   "cell_type": "code",
   "execution_count": null,
   "metadata": {
    "lines_to_next_cell": 2
   },
   "outputs": [],
   "source": [
    "class MyEvaluator(Evaluator):\n",
    "    def evaluate(self, **kwargs) -> EvaluationMetrics:\n",
    "        pass\n",
    "\n",
    "evaluator = MyEvaluator()\n",
    "\n",
    "from kmeans_poc.evaluation import EvaluationMetrics, Evaluator\n",
    "\n",
    "\n",
    "class KMeansSampleEvaluationMetrics(EvaluationMetrics):\n",
    "    \"\"\"\n",
    "    Class to hold the actual values the evaluation created, e.g. precision, recall, MSE.\n",
    "    in this sample case number of clusters is used to showcase the usage of framework only\n",
    "    \"\"\"\n",
    "    def __init__(self, n_clusters):\n",
    "        self.n_clusters = n_clusters\n",
    "        super().__init__()\n",
    "\n",
    "    def get_metrics(self):\n",
    "        return {\"n_clusters\": self.n_clusters}\n",
    "    \n",
    "    def __repr__(self):\n",
    "        return f\"n_clusters: {self.n_clusters}\"\n",
    "\n",
    "\n",
    "class KMeansSampleEvaluator(Evaluator):\n",
    "    \"\"\"\n",
    "    Class to hold the logic for how the model is evaluated.\n",
    "    \"\"\"\n",
    "    def __init__(self, expected_n_clusters):\n",
    "        self.exp_n_clusters = expected_n_clusters\n",
    "        super().__init__()\n",
    "\n",
    "    def evaluate(self, predicted, actual) -> KMeansSampleEvaluationMetrics:\n",
    "        # This is where actual evaluation takes place.\n",
    "        return KMeansSampleEvaluationMetrics(\n",
    "            n_clusters = self.exp_n_clusters\n",
    "        )\n",
    "\n",
    "\n",
    "evaluator = KMeansSampleEvaluator(expected_n_clusters=2)\n",
    "\n",
    "\n"
   ]
  },
  {
   "cell_type": "markdown",
   "metadata": {},
   "source": [
    "Run experiment"
   ]
  },
  {
   "cell_type": "code",
   "execution_count": null,
   "metadata": {},
   "outputs": [],
   "source": [
    "from kmeans_poc import ExperimentRunner\n",
    "\n",
    "experiment_runner = ExperimentRunner(\n",
    "    model=my_model,\n",
    "    X_train=x,\n",
    "    y_train=None,\n",
    "    X_test=x,\n",
    "    y_test=None,\n",
    "    data_loader=data_loader,\n",
    "    log_experiment=True,\n",
    "    experiment_logger=experimentation,\n",
    "    evaluator=evaluator,\n",
    "    experiment_name=\"/Experiment\",\n",
    ")\n",
    "\n",
    "results = experiment_runner.run()\n",
    "print(results)\n"
   ]
  },
  {
   "cell_type": "code",
   "execution_count": null,
   "metadata": {},
   "outputs": [],
   "source": []
  }
 ],
 "metadata": {
  "jupytext": {
   "cell_metadata_filter": "-all",
   "main_language": "python",
   "notebook_metadata_filter": "-all"
  },
  "kernelspec": {
   "display_name": "Python 3",
   "language": "python",
   "name": "python3"
  },
  "language_info": {
   "codemirror_mode": {
    "name": "ipython",
    "version": 3
   },
   "file_extension": ".py",
   "mimetype": "text/x-python",
   "name": "python",
   "nbconvert_exporter": "python",
   "pygments_lexer": "ipython3",
   "version": "3.7.6"
  },
  "pycharm": {
   "stem_cell": {
    "cell_type": "raw",
    "metadata": {
     "collapsed": false
    },
    "source": []
   }
  }
 },
 "nbformat": 4,
 "nbformat_minor": 4
}
